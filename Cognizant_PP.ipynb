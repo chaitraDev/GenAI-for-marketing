{
  "cells": [
    {
      "cell_type": "markdown",
      "metadata": {
        "id": "view-in-github",
        "colab_type": "text"
      },
      "source": [
        "<a href=\"https://colab.research.google.com/github/chaitraDev/GenAI-for-marketing/blob/main/Cognizant_PP.ipynb\" target=\"_parent\"><img src=\"https://colab.research.google.com/assets/colab-badge.svg\" alt=\"Open In Colab\"/></a>"
      ]
    },
    {
      "cell_type": "markdown",
      "source": [
        "# Setup"
      ],
      "metadata": {
        "id": "FtXc3Uy2VqwG"
      }
    },
    {
      "cell_type": "code",
      "execution_count": null,
      "metadata": {
        "id": "xPp1kIM1fFKi"
      },
      "outputs": [],
      "source": [
        "import pandas as pd\n",
        "import statistics as stats"
      ]
    },
    {
      "cell_type": "code",
      "execution_count": null,
      "metadata": {
        "id": "5TtXkgA5nxJa"
      },
      "outputs": [],
      "source": [
        "ds = pd.read_excel(\"/content/cust_segmented(updated).xlsx\")"
      ]
    },
    {
      "cell_type": "markdown",
      "source": [
        "# Removing Unwanted Columns"
      ],
      "metadata": {
        "id": "4xozzzpMWcOA"
      }
    },
    {
      "cell_type": "markdown",
      "metadata": {
        "id": "1BQv6aKou--Q"
      },
      "source": [
        "- We don't have products specific to gender,locations\n",
        "- And the products also don't depend on the account balance\n",
        "- Hence dropping location, gender, account balance columns"
      ]
    },
    {
      "cell_type": "code",
      "execution_count": null,
      "metadata": {
        "id": "o7PJJFYushKP"
      },
      "outputs": [],
      "source": [
        "ds.drop(columns = ['CustGender','CustAccountBalance','CustLocation'], inplace=True)"
      ]
    },
    {
      "cell_type": "markdown",
      "source": [
        "# Handling Nulls"
      ],
      "metadata": {
        "id": "42MKcwNEVvW4"
      }
    },
    {
      "cell_type": "code",
      "execution_count": null,
      "metadata": {
        "colab": {
          "base_uri": "https://localhost:8080/",
          "height": 523
        },
        "id": "bN5HaZX04PB-",
        "outputId": "d6c0a39a-4311-404a-81b7-567539067ac8"
      },
      "outputs": [
        {
          "output_type": "execute_result",
          "data": {
            "text/plain": [
              "CustomerID               0\n",
              "CustomerDOB           1747\n",
              "most_recent              0\n",
              "Gap                      0\n",
              "Num_Transactions         0\n",
              "Sum_Transactions         0\n",
              "Recency                  0\n",
              "Monetary_Value           0\n",
              "Frequency                0\n",
              "RFM_Score                0\n",
              "Relationship_Value       0\n",
              "Age                   1747\n",
              "Cibil_Score              0\n",
              "Income                   0\n",
              "dtype: int64"
            ],
            "text/html": [
              "<div>\n",
              "<style scoped>\n",
              "    .dataframe tbody tr th:only-of-type {\n",
              "        vertical-align: middle;\n",
              "    }\n",
              "\n",
              "    .dataframe tbody tr th {\n",
              "        vertical-align: top;\n",
              "    }\n",
              "\n",
              "    .dataframe thead th {\n",
              "        text-align: right;\n",
              "    }\n",
              "</style>\n",
              "<table border=\"1\" class=\"dataframe\">\n",
              "  <thead>\n",
              "    <tr style=\"text-align: right;\">\n",
              "      <th></th>\n",
              "      <th>0</th>\n",
              "    </tr>\n",
              "  </thead>\n",
              "  <tbody>\n",
              "    <tr>\n",
              "      <th>CustomerID</th>\n",
              "      <td>0</td>\n",
              "    </tr>\n",
              "    <tr>\n",
              "      <th>CustomerDOB</th>\n",
              "      <td>1747</td>\n",
              "    </tr>\n",
              "    <tr>\n",
              "      <th>most_recent</th>\n",
              "      <td>0</td>\n",
              "    </tr>\n",
              "    <tr>\n",
              "      <th>Gap</th>\n",
              "      <td>0</td>\n",
              "    </tr>\n",
              "    <tr>\n",
              "      <th>Num_Transactions</th>\n",
              "      <td>0</td>\n",
              "    </tr>\n",
              "    <tr>\n",
              "      <th>Sum_Transactions</th>\n",
              "      <td>0</td>\n",
              "    </tr>\n",
              "    <tr>\n",
              "      <th>Recency</th>\n",
              "      <td>0</td>\n",
              "    </tr>\n",
              "    <tr>\n",
              "      <th>Monetary_Value</th>\n",
              "      <td>0</td>\n",
              "    </tr>\n",
              "    <tr>\n",
              "      <th>Frequency</th>\n",
              "      <td>0</td>\n",
              "    </tr>\n",
              "    <tr>\n",
              "      <th>RFM_Score</th>\n",
              "      <td>0</td>\n",
              "    </tr>\n",
              "    <tr>\n",
              "      <th>Relationship_Value</th>\n",
              "      <td>0</td>\n",
              "    </tr>\n",
              "    <tr>\n",
              "      <th>Age</th>\n",
              "      <td>1747</td>\n",
              "    </tr>\n",
              "    <tr>\n",
              "      <th>Cibil_Score</th>\n",
              "      <td>0</td>\n",
              "    </tr>\n",
              "    <tr>\n",
              "      <th>Income</th>\n",
              "      <td>0</td>\n",
              "    </tr>\n",
              "  </tbody>\n",
              "</table>\n",
              "</div><br><label><b>dtype:</b> int64</label>"
            ]
          },
          "metadata": {},
          "execution_count": 5
        }
      ],
      "source": [
        "ds.isnull().sum()"
      ]
    },
    {
      "cell_type": "markdown",
      "source": [
        "## In Age Column"
      ],
      "metadata": {
        "id": "qx3GHOoCTjK1"
      }
    },
    {
      "cell_type": "markdown",
      "source": [
        "- The original dataset has DOB not Age\n",
        "- We need Age as feature not DOB\n",
        "- Hence handling nulls only in Age column"
      ],
      "metadata": {
        "id": "xeDfCuBCRlSS"
      }
    },
    {
      "cell_type": "markdown",
      "source": [
        "- Replacing with mean, shifts distribution, hence imputing nulls in each with median age\n"
      ],
      "metadata": {
        "id": "UplOf_prTQ0B"
      }
    },
    {
      "cell_type": "code",
      "source": [
        "med_age = ds['Age'].median()\n",
        "ds['Age'].fillna(value = med_age, inplace = True)"
      ],
      "metadata": {
        "id": "H382WWCRFSyj"
      },
      "execution_count": null,
      "outputs": []
    },
    {
      "cell_type": "markdown",
      "source": [
        "## In DOB column"
      ],
      "metadata": {
        "id": "2I-aS_8fWHkU"
      }
    },
    {
      "cell_type": "code",
      "source": [
        "# DOB was only required for age, and no longer needed\n",
        "ds.drop(columns = ['CustomerDOB'], inplace= True)"
      ],
      "metadata": {
        "id": "oe_vigolHq_E"
      },
      "execution_count": null,
      "outputs": []
    },
    {
      "cell_type": "code",
      "source": [
        "ds.isnull().sum()"
      ],
      "metadata": {
        "id": "MaDMLPjhGuj8",
        "colab": {
          "base_uri": "https://localhost:8080/",
          "height": 491
        },
        "outputId": "a41d1953-28bb-4a62-c75e-1d340188131d"
      },
      "execution_count": null,
      "outputs": [
        {
          "output_type": "execute_result",
          "data": {
            "text/plain": [
              "CustomerID            0\n",
              "most_recent           0\n",
              "Gap                   0\n",
              "Num_Transactions      0\n",
              "Sum_Transactions      0\n",
              "Recency               0\n",
              "Monetary_Value        0\n",
              "Frequency             0\n",
              "RFM_Score             0\n",
              "Relationship_Value    0\n",
              "Age                   0\n",
              "Cibil_Score           0\n",
              "Income                0\n",
              "dtype: int64"
            ],
            "text/html": [
              "<div>\n",
              "<style scoped>\n",
              "    .dataframe tbody tr th:only-of-type {\n",
              "        vertical-align: middle;\n",
              "    }\n",
              "\n",
              "    .dataframe tbody tr th {\n",
              "        vertical-align: top;\n",
              "    }\n",
              "\n",
              "    .dataframe thead th {\n",
              "        text-align: right;\n",
              "    }\n",
              "</style>\n",
              "<table border=\"1\" class=\"dataframe\">\n",
              "  <thead>\n",
              "    <tr style=\"text-align: right;\">\n",
              "      <th></th>\n",
              "      <th>0</th>\n",
              "    </tr>\n",
              "  </thead>\n",
              "  <tbody>\n",
              "    <tr>\n",
              "      <th>CustomerID</th>\n",
              "      <td>0</td>\n",
              "    </tr>\n",
              "    <tr>\n",
              "      <th>most_recent</th>\n",
              "      <td>0</td>\n",
              "    </tr>\n",
              "    <tr>\n",
              "      <th>Gap</th>\n",
              "      <td>0</td>\n",
              "    </tr>\n",
              "    <tr>\n",
              "      <th>Num_Transactions</th>\n",
              "      <td>0</td>\n",
              "    </tr>\n",
              "    <tr>\n",
              "      <th>Sum_Transactions</th>\n",
              "      <td>0</td>\n",
              "    </tr>\n",
              "    <tr>\n",
              "      <th>Recency</th>\n",
              "      <td>0</td>\n",
              "    </tr>\n",
              "    <tr>\n",
              "      <th>Monetary_Value</th>\n",
              "      <td>0</td>\n",
              "    </tr>\n",
              "    <tr>\n",
              "      <th>Frequency</th>\n",
              "      <td>0</td>\n",
              "    </tr>\n",
              "    <tr>\n",
              "      <th>RFM_Score</th>\n",
              "      <td>0</td>\n",
              "    </tr>\n",
              "    <tr>\n",
              "      <th>Relationship_Value</th>\n",
              "      <td>0</td>\n",
              "    </tr>\n",
              "    <tr>\n",
              "      <th>Age</th>\n",
              "      <td>0</td>\n",
              "    </tr>\n",
              "    <tr>\n",
              "      <th>Cibil_Score</th>\n",
              "      <td>0</td>\n",
              "    </tr>\n",
              "    <tr>\n",
              "      <th>Income</th>\n",
              "      <td>0</td>\n",
              "    </tr>\n",
              "  </tbody>\n",
              "</table>\n",
              "</div><br><label><b>dtype:</b> int64</label>"
            ]
          },
          "metadata": {},
          "execution_count": 10
        }
      ]
    },
    {
      "cell_type": "code",
      "source": [
        "ds.columns"
      ],
      "metadata": {
        "colab": {
          "base_uri": "https://localhost:8080/"
        },
        "id": "86nj8b_3mL1o",
        "outputId": "85014a8c-1a18-4590-fb4a-f92e33ee6f6c"
      },
      "execution_count": null,
      "outputs": [
        {
          "output_type": "execute_result",
          "data": {
            "text/plain": [
              "Index(['CustomerID', 'most_recent', 'Gap', 'Num_Transactions',\n",
              "       'Sum_Transactions', 'Recency', 'Monetary_Value', 'Frequency',\n",
              "       'RFM_Score', 'Relationship_Value', 'Age', 'Cibil_Score', 'Income'],\n",
              "      dtype='object')"
            ]
          },
          "metadata": {},
          "execution_count": 11
        }
      ]
    },
    {
      "cell_type": "code",
      "source": [],
      "metadata": {
        "id": "tCK6Q8vV5281"
      },
      "execution_count": null,
      "outputs": []
    }
  ],
  "metadata": {
    "colab": {
      "provenance": [],
      "include_colab_link": true
    },
    "kernelspec": {
      "display_name": "Python 3",
      "name": "python3"
    },
    "language_info": {
      "name": "python"
    }
  },
  "nbformat": 4,
  "nbformat_minor": 0
}