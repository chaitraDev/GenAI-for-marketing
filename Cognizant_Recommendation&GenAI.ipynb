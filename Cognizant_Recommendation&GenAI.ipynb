{
  "nbformat": 4,
  "nbformat_minor": 0,
  "metadata": {
    "colab": {
      "provenance": [],
      "mount_file_id": "1Oy4a6m_Yv4j1Njg5X_WQVz679_6fHhp7",
      "authorship_tag": "ABX9TyPpUBI4J09Mv+zM9ih1Jk4t",
      "include_colab_link": true
    },
    "kernelspec": {
      "name": "python3",
      "display_name": "Python 3"
    },
    "language_info": {
      "name": "python"
    }
  },
  "cells": [
    {
      "cell_type": "markdown",
      "metadata": {
        "id": "view-in-github",
        "colab_type": "text"
      },
      "source": [
        "<a href=\"https://colab.research.google.com/github/chaitraDev/GenAI-for-marketing/blob/main/Cognizant_Recommendation%26GenAI.ipynb\" target=\"_parent\"><img src=\"https://colab.research.google.com/assets/colab-badge.svg\" alt=\"Open In Colab\"/></a>"
      ]
    },
    {
      "cell_type": "code",
      "source": [
        "import pandas as pd\n",
        "customers = pd.read_csv(\"/content/drive/MyDrive/Cognizant/cust_segmented_clustered_nonum.csv\")"
      ],
      "metadata": {
        "id": "RJ3-ld0mbYV0"
      },
      "execution_count": null,
      "outputs": []
    },
    {
      "cell_type": "code",
      "source": [
        "def get_customers(product_name):\n",
        "  # Find the clusters that have this product\n",
        "  clusters = customers[customers.Product == product_name].Clusters_ID.unique()\n",
        "  prod_index = customers[customers.Product == product_name].index\n",
        "\n",
        "  # Find how many times the product has appeared in those clusters\n",
        "  cluster_product = customers.loc[:,[\"Clusters_ID\",\"Product\"]]\n",
        "  mapping = {cluster:0 for cluster in clusters}\n",
        "  for index in prod_index:\n",
        "    cluster_no = cluster_product.iloc[index][\"Clusters_ID\"]\n",
        "    mapping[cluster_no] += 1\n",
        "  print(mapping)\n",
        "\n",
        "  # find the cluster that has this product max number of times\n",
        "  best_cluster = sorted(mapping.items(),key=lambda pair:pair[1],reverse=True)[0][0]\n",
        "\n",
        "  # Find the customers that belong to this cluster and aren't using this product\n",
        "  targets = customers[((customers.Clusters_ID == best_cluster) & (customers.Product!=product_name))]\n",
        "  return targets"
      ],
      "metadata": {
        "id": "lnemJcCad_Wp"
      },
      "execution_count": null,
      "outputs": []
    },
    {
      "cell_type": "code",
      "source": [
        "targets = get_customers(\"National_Pension_System\")\n",
        "targets.head()"
      ],
      "metadata": {
        "colab": {
          "base_uri": "https://localhost:8080/",
          "height": 223
        },
        "id": "2IrhY3f3ofW_",
        "outputId": "8b2ee20a-91e6-44f8-d0a8-78b260e0310a"
      },
      "execution_count": null,
      "outputs": [
        {
          "output_type": "stream",
          "name": "stdout",
          "text": [
            "{40: 980, 21: 977, 32: 821, 5: 560, 28: 455, 46: 1125}\n"
          ]
        },
        {
          "output_type": "execute_result",
          "data": {
            "text/plain": [
              "    Unnamed: 0 CustomerID  RFM_Score Relationship_Value  Age  Cibil_Score  \\\n",
              "33          33   C6931388        512               high   94          502   \n",
              "35          35   C5331380        412               high   94          445   \n",
              "55          55   C2514473        412               high   93          517   \n",
              "60          60   C7625952        514               high   93          601   \n",
              "63          63   C4014424        515               high   93          673   \n",
              "\n",
              "    Income                           Product  Clusters_ID  \n",
              "33   200.0  Senior Citizens Health Insurance           46  \n",
              "35   300.0  Senior Citizens Health Insurance           46  \n",
              "55   134.0  Senior Citizens Health Insurance           46  \n",
              "60   731.0  Senior Citizens Health Insurance           46  \n",
              "63  1973.0  Senior Citizens Health Insurance           46  "
            ],
            "text/html": [
              "\n",
              "  <div id=\"df-ef532a97-37a0-445d-9402-1b7969da6af2\" class=\"colab-df-container\">\n",
              "    <div>\n",
              "<style scoped>\n",
              "    .dataframe tbody tr th:only-of-type {\n",
              "        vertical-align: middle;\n",
              "    }\n",
              "\n",
              "    .dataframe tbody tr th {\n",
              "        vertical-align: top;\n",
              "    }\n",
              "\n",
              "    .dataframe thead th {\n",
              "        text-align: right;\n",
              "    }\n",
              "</style>\n",
              "<table border=\"1\" class=\"dataframe\">\n",
              "  <thead>\n",
              "    <tr style=\"text-align: right;\">\n",
              "      <th></th>\n",
              "      <th>Unnamed: 0</th>\n",
              "      <th>CustomerID</th>\n",
              "      <th>RFM_Score</th>\n",
              "      <th>Relationship_Value</th>\n",
              "      <th>Age</th>\n",
              "      <th>Cibil_Score</th>\n",
              "      <th>Income</th>\n",
              "      <th>Product</th>\n",
              "      <th>Clusters_ID</th>\n",
              "    </tr>\n",
              "  </thead>\n",
              "  <tbody>\n",
              "    <tr>\n",
              "      <th>33</th>\n",
              "      <td>33</td>\n",
              "      <td>C6931388</td>\n",
              "      <td>512</td>\n",
              "      <td>high</td>\n",
              "      <td>94</td>\n",
              "      <td>502</td>\n",
              "      <td>200.0</td>\n",
              "      <td>Senior Citizens Health Insurance</td>\n",
              "      <td>46</td>\n",
              "    </tr>\n",
              "    <tr>\n",
              "      <th>35</th>\n",
              "      <td>35</td>\n",
              "      <td>C5331380</td>\n",
              "      <td>412</td>\n",
              "      <td>high</td>\n",
              "      <td>94</td>\n",
              "      <td>445</td>\n",
              "      <td>300.0</td>\n",
              "      <td>Senior Citizens Health Insurance</td>\n",
              "      <td>46</td>\n",
              "    </tr>\n",
              "    <tr>\n",
              "      <th>55</th>\n",
              "      <td>55</td>\n",
              "      <td>C2514473</td>\n",
              "      <td>412</td>\n",
              "      <td>high</td>\n",
              "      <td>93</td>\n",
              "      <td>517</td>\n",
              "      <td>134.0</td>\n",
              "      <td>Senior Citizens Health Insurance</td>\n",
              "      <td>46</td>\n",
              "    </tr>\n",
              "    <tr>\n",
              "      <th>60</th>\n",
              "      <td>60</td>\n",
              "      <td>C7625952</td>\n",
              "      <td>514</td>\n",
              "      <td>high</td>\n",
              "      <td>93</td>\n",
              "      <td>601</td>\n",
              "      <td>731.0</td>\n",
              "      <td>Senior Citizens Health Insurance</td>\n",
              "      <td>46</td>\n",
              "    </tr>\n",
              "    <tr>\n",
              "      <th>63</th>\n",
              "      <td>63</td>\n",
              "      <td>C4014424</td>\n",
              "      <td>515</td>\n",
              "      <td>high</td>\n",
              "      <td>93</td>\n",
              "      <td>673</td>\n",
              "      <td>1973.0</td>\n",
              "      <td>Senior Citizens Health Insurance</td>\n",
              "      <td>46</td>\n",
              "    </tr>\n",
              "  </tbody>\n",
              "</table>\n",
              "</div>\n",
              "    <div class=\"colab-df-buttons\">\n",
              "\n",
              "  <div class=\"colab-df-container\">\n",
              "    <button class=\"colab-df-convert\" onclick=\"convertToInteractive('df-ef532a97-37a0-445d-9402-1b7969da6af2')\"\n",
              "            title=\"Convert this dataframe to an interactive table.\"\n",
              "            style=\"display:none;\">\n",
              "\n",
              "  <svg xmlns=\"http://www.w3.org/2000/svg\" height=\"24px\" viewBox=\"0 -960 960 960\">\n",
              "    <path d=\"M120-120v-720h720v720H120Zm60-500h600v-160H180v160Zm220 220h160v-160H400v160Zm0 220h160v-160H400v160ZM180-400h160v-160H180v160Zm440 0h160v-160H620v160ZM180-180h160v-160H180v160Zm440 0h160v-160H620v160Z\"/>\n",
              "  </svg>\n",
              "    </button>\n",
              "\n",
              "  <style>\n",
              "    .colab-df-container {\n",
              "      display:flex;\n",
              "      gap: 12px;\n",
              "    }\n",
              "\n",
              "    .colab-df-convert {\n",
              "      background-color: #E8F0FE;\n",
              "      border: none;\n",
              "      border-radius: 50%;\n",
              "      cursor: pointer;\n",
              "      display: none;\n",
              "      fill: #1967D2;\n",
              "      height: 32px;\n",
              "      padding: 0 0 0 0;\n",
              "      width: 32px;\n",
              "    }\n",
              "\n",
              "    .colab-df-convert:hover {\n",
              "      background-color: #E2EBFA;\n",
              "      box-shadow: 0px 1px 2px rgba(60, 64, 67, 0.3), 0px 1px 3px 1px rgba(60, 64, 67, 0.15);\n",
              "      fill: #174EA6;\n",
              "    }\n",
              "\n",
              "    .colab-df-buttons div {\n",
              "      margin-bottom: 4px;\n",
              "    }\n",
              "\n",
              "    [theme=dark] .colab-df-convert {\n",
              "      background-color: #3B4455;\n",
              "      fill: #D2E3FC;\n",
              "    }\n",
              "\n",
              "    [theme=dark] .colab-df-convert:hover {\n",
              "      background-color: #434B5C;\n",
              "      box-shadow: 0px 1px 3px 1px rgba(0, 0, 0, 0.15);\n",
              "      filter: drop-shadow(0px 1px 2px rgba(0, 0, 0, 0.3));\n",
              "      fill: #FFFFFF;\n",
              "    }\n",
              "  </style>\n",
              "\n",
              "    <script>\n",
              "      const buttonEl =\n",
              "        document.querySelector('#df-ef532a97-37a0-445d-9402-1b7969da6af2 button.colab-df-convert');\n",
              "      buttonEl.style.display =\n",
              "        google.colab.kernel.accessAllowed ? 'block' : 'none';\n",
              "\n",
              "      async function convertToInteractive(key) {\n",
              "        const element = document.querySelector('#df-ef532a97-37a0-445d-9402-1b7969da6af2');\n",
              "        const dataTable =\n",
              "          await google.colab.kernel.invokeFunction('convertToInteractive',\n",
              "                                                    [key], {});\n",
              "        if (!dataTable) return;\n",
              "\n",
              "        const docLinkHtml = 'Like what you see? Visit the ' +\n",
              "          '<a target=\"_blank\" href=https://colab.research.google.com/notebooks/data_table.ipynb>data table notebook</a>'\n",
              "          + ' to learn more about interactive tables.';\n",
              "        element.innerHTML = '';\n",
              "        dataTable['output_type'] = 'display_data';\n",
              "        await google.colab.output.renderOutput(dataTable, element);\n",
              "        const docLink = document.createElement('div');\n",
              "        docLink.innerHTML = docLinkHtml;\n",
              "        element.appendChild(docLink);\n",
              "      }\n",
              "    </script>\n",
              "  </div>\n",
              "\n",
              "\n",
              "<div id=\"df-19f7330a-994f-4c5d-9893-4448a156b7fa\">\n",
              "  <button class=\"colab-df-quickchart\" onclick=\"quickchart('df-19f7330a-994f-4c5d-9893-4448a156b7fa')\"\n",
              "            title=\"Suggest charts\"\n",
              "            style=\"display:none;\">\n",
              "\n",
              "<svg xmlns=\"http://www.w3.org/2000/svg\" height=\"24px\"viewBox=\"0 0 24 24\"\n",
              "     width=\"24px\">\n",
              "    <g>\n",
              "        <path d=\"M19 3H5c-1.1 0-2 .9-2 2v14c0 1.1.9 2 2 2h14c1.1 0 2-.9 2-2V5c0-1.1-.9-2-2-2zM9 17H7v-7h2v7zm4 0h-2V7h2v10zm4 0h-2v-4h2v4z\"/>\n",
              "    </g>\n",
              "</svg>\n",
              "  </button>\n",
              "\n",
              "<style>\n",
              "  .colab-df-quickchart {\n",
              "      --bg-color: #E8F0FE;\n",
              "      --fill-color: #1967D2;\n",
              "      --hover-bg-color: #E2EBFA;\n",
              "      --hover-fill-color: #174EA6;\n",
              "      --disabled-fill-color: #AAA;\n",
              "      --disabled-bg-color: #DDD;\n",
              "  }\n",
              "\n",
              "  [theme=dark] .colab-df-quickchart {\n",
              "      --bg-color: #3B4455;\n",
              "      --fill-color: #D2E3FC;\n",
              "      --hover-bg-color: #434B5C;\n",
              "      --hover-fill-color: #FFFFFF;\n",
              "      --disabled-bg-color: #3B4455;\n",
              "      --disabled-fill-color: #666;\n",
              "  }\n",
              "\n",
              "  .colab-df-quickchart {\n",
              "    background-color: var(--bg-color);\n",
              "    border: none;\n",
              "    border-radius: 50%;\n",
              "    cursor: pointer;\n",
              "    display: none;\n",
              "    fill: var(--fill-color);\n",
              "    height: 32px;\n",
              "    padding: 0;\n",
              "    width: 32px;\n",
              "  }\n",
              "\n",
              "  .colab-df-quickchart:hover {\n",
              "    background-color: var(--hover-bg-color);\n",
              "    box-shadow: 0 1px 2px rgba(60, 64, 67, 0.3), 0 1px 3px 1px rgba(60, 64, 67, 0.15);\n",
              "    fill: var(--button-hover-fill-color);\n",
              "  }\n",
              "\n",
              "  .colab-df-quickchart-complete:disabled,\n",
              "  .colab-df-quickchart-complete:disabled:hover {\n",
              "    background-color: var(--disabled-bg-color);\n",
              "    fill: var(--disabled-fill-color);\n",
              "    box-shadow: none;\n",
              "  }\n",
              "\n",
              "  .colab-df-spinner {\n",
              "    border: 2px solid var(--fill-color);\n",
              "    border-color: transparent;\n",
              "    border-bottom-color: var(--fill-color);\n",
              "    animation:\n",
              "      spin 1s steps(1) infinite;\n",
              "  }\n",
              "\n",
              "  @keyframes spin {\n",
              "    0% {\n",
              "      border-color: transparent;\n",
              "      border-bottom-color: var(--fill-color);\n",
              "      border-left-color: var(--fill-color);\n",
              "    }\n",
              "    20% {\n",
              "      border-color: transparent;\n",
              "      border-left-color: var(--fill-color);\n",
              "      border-top-color: var(--fill-color);\n",
              "    }\n",
              "    30% {\n",
              "      border-color: transparent;\n",
              "      border-left-color: var(--fill-color);\n",
              "      border-top-color: var(--fill-color);\n",
              "      border-right-color: var(--fill-color);\n",
              "    }\n",
              "    40% {\n",
              "      border-color: transparent;\n",
              "      border-right-color: var(--fill-color);\n",
              "      border-top-color: var(--fill-color);\n",
              "    }\n",
              "    60% {\n",
              "      border-color: transparent;\n",
              "      border-right-color: var(--fill-color);\n",
              "    }\n",
              "    80% {\n",
              "      border-color: transparent;\n",
              "      border-right-color: var(--fill-color);\n",
              "      border-bottom-color: var(--fill-color);\n",
              "    }\n",
              "    90% {\n",
              "      border-color: transparent;\n",
              "      border-bottom-color: var(--fill-color);\n",
              "    }\n",
              "  }\n",
              "</style>\n",
              "\n",
              "  <script>\n",
              "    async function quickchart(key) {\n",
              "      const quickchartButtonEl =\n",
              "        document.querySelector('#' + key + ' button');\n",
              "      quickchartButtonEl.disabled = true;  // To prevent multiple clicks.\n",
              "      quickchartButtonEl.classList.add('colab-df-spinner');\n",
              "      try {\n",
              "        const charts = await google.colab.kernel.invokeFunction(\n",
              "            'suggestCharts', [key], {});\n",
              "      } catch (error) {\n",
              "        console.error('Error during call to suggestCharts:', error);\n",
              "      }\n",
              "      quickchartButtonEl.classList.remove('colab-df-spinner');\n",
              "      quickchartButtonEl.classList.add('colab-df-quickchart-complete');\n",
              "    }\n",
              "    (() => {\n",
              "      let quickchartButtonEl =\n",
              "        document.querySelector('#df-19f7330a-994f-4c5d-9893-4448a156b7fa button');\n",
              "      quickchartButtonEl.style.display =\n",
              "        google.colab.kernel.accessAllowed ? 'block' : 'none';\n",
              "    })();\n",
              "  </script>\n",
              "</div>\n",
              "\n",
              "    </div>\n",
              "  </div>\n"
            ],
            "application/vnd.google.colaboratory.intrinsic+json": {
              "type": "dataframe",
              "variable_name": "targets",
              "summary": "{\n  \"name\": \"targets\",\n  \"rows\": 2423,\n  \"fields\": [\n    {\n      \"column\": \"Unnamed: 0\",\n      \"properties\": {\n        \"dtype\": \"number\",\n        \"std\": 8845,\n        \"min\": 33,\n        \"max\": 42344,\n        \"num_unique_values\": 2423,\n        \"samples\": [\n          4685,\n          9104,\n          6518\n        ],\n        \"semantic_type\": \"\",\n        \"description\": \"\"\n      }\n    },\n    {\n      \"column\": \"CustomerID\",\n      \"properties\": {\n        \"dtype\": \"string\",\n        \"num_unique_values\": 2423,\n        \"samples\": [\n          \"C3395857\",\n          \"C1031992\",\n          \"C3312480\"\n        ],\n        \"semantic_type\": \"\",\n        \"description\": \"\"\n      }\n    },\n    {\n      \"column\": \"RFM_Score\",\n      \"properties\": {\n        \"dtype\": \"number\",\n        \"std\": 49,\n        \"min\": 411,\n        \"max\": 535,\n        \"num_unique_values\": 24,\n        \"samples\": [\n          411,\n          435,\n          512\n        ],\n        \"semantic_type\": \"\",\n        \"description\": \"\"\n      }\n    },\n    {\n      \"column\": \"Relationship_Value\",\n      \"properties\": {\n        \"dtype\": \"category\",\n        \"num_unique_values\": 1,\n        \"samples\": [\n          \"high\"\n        ],\n        \"semantic_type\": \"\",\n        \"description\": \"\"\n      }\n    },\n    {\n      \"column\": \"Age\",\n      \"properties\": {\n        \"dtype\": \"number\",\n        \"std\": 8,\n        \"min\": 52,\n        \"max\": 94,\n        \"num_unique_values\": 43,\n        \"samples\": [\n          57\n        ],\n        \"semantic_type\": \"\",\n        \"description\": \"\"\n      }\n    },\n    {\n      \"column\": \"Cibil_Score\",\n      \"properties\": {\n        \"dtype\": \"number\",\n        \"std\": 93,\n        \"min\": 300,\n        \"max\": 696,\n        \"num_unique_values\": 377,\n        \"samples\": [\n          450\n        ],\n        \"semantic_type\": \"\",\n        \"description\": \"\"\n      }\n    },\n    {\n      \"column\": \"Income\",\n      \"properties\": {\n        \"dtype\": \"number\",\n        \"std\": 11371.082624343799,\n        \"min\": 0.76,\n        \"max\": 500000.0,\n        \"num_unique_values\": 1309,\n        \"samples\": [\n          311.52\n        ],\n        \"semantic_type\": \"\",\n        \"description\": \"\"\n      }\n    },\n    {\n      \"column\": \"Product\",\n      \"properties\": {\n        \"dtype\": \"category\",\n        \"num_unique_values\": 6,\n        \"samples\": [\n          \"Senior Citizens Health Insurance\"\n        ],\n        \"semantic_type\": \"\",\n        \"description\": \"\"\n      }\n    },\n    {\n      \"column\": \"Clusters_ID\",\n      \"properties\": {\n        \"dtype\": \"number\",\n        \"std\": 0,\n        \"min\": 46,\n        \"max\": 46,\n        \"num_unique_values\": 1,\n        \"samples\": [\n          46\n        ],\n        \"semantic_type\": \"\",\n        \"description\": \"\"\n      }\n    }\n  ]\n}"
            }
          },
          "metadata": {},
          "execution_count": 4
        }
      ]
    },
    {
      "cell_type": "markdown",
      "source": [
        "# GenAI"
      ],
      "metadata": {
        "id": "k13udMkd7LqD"
      }
    },
    {
      "cell_type": "code",
      "source": [
        "import google.generativeai as genai\n",
        "from google.colab import userdata\n",
        "from IPython.display import Markdown,display"
      ],
      "metadata": {
        "id": "CDoe0Qns6xYh"
      },
      "execution_count": null,
      "outputs": []
    },
    {
      "cell_type": "code",
      "execution_count": null,
      "metadata": {
        "id": "bGZ0TDzO50Rx"
      },
      "outputs": [],
      "source": [
        "api = userdata.get('api')"
      ]
    },
    {
      "cell_type": "code",
      "source": [
        "genai.configure(api_key = api)\n",
        "model = genai.GenerativeModel('gemini-1.5-flash',system_instruction=\"You are sales team lead in bank\")"
      ],
      "metadata": {
        "id": "d-OdiFDx8PTT"
      },
      "execution_count": null,
      "outputs": []
    },
    {
      "cell_type": "code",
      "source": [
        "hot_lead_id = targets[targets.Relationship_Value == \"high\"][\"CustomerID\"].iloc[0]"
      ],
      "metadata": {
        "id": "bM8E5sKLnUbO"
      },
      "execution_count": null,
      "outputs": []
    },
    {
      "cell_type": "code",
      "source": [
        "customer = customers[customers.CustomerID == hot_lead_id]\n",
        "recommendation = \"National_Pension_System\"\n",
        "prompt = f\"\"\"\n",
        "            Given this customer profile (Age: {customer.Age} yrs, Cibil Score: {customer.Cibil_Score},\n",
        "            RFM score: {customer.RFM_Score}, Previous Product: {customer.Product})\n",
        "            State why {recommendation} would be good recommendation for this customer.\n",
        "            Answer in tabular format with following columns:\n",
        "            'Parameter' - (Strength Features's Value),'Strengths', 'Benefit of {recommendation}', 'Recommendations', and 'Important Considerations'\n",
        "            Just include bullet points with only limited keywords; no explanations.\n",
        "          \"\"\""
      ],
      "metadata": {
        "id": "MozPDqjWdD-i"
      },
      "execution_count": null,
      "outputs": []
    },
    {
      "cell_type": "code",
      "source": [
        "response = model.generate_content(prompt)"
      ],
      "metadata": {
        "id": "SpBsdxn78cva"
      },
      "execution_count": null,
      "outputs": []
    },
    {
      "cell_type": "code",
      "source": [
        "display(Markdown((response.text)))"
      ],
      "metadata": {
        "colab": {
          "base_uri": "https://localhost:8080/",
          "height": 309
        },
        "id": "H1ZfwmSe8mDF",
        "outputId": "aa235d36-5e84-47aa-f969-8ea84eb9c73e"
      },
      "execution_count": null,
      "outputs": [
        {
          "output_type": "display_data",
          "data": {
            "text/plain": [
              "<IPython.core.display.Markdown object>"
            ],
            "text/markdown": "## National Pension System Recommendation for Customer\n\n| Parameter | Strengths | Benefit of National_Pension_System | Recommendations | Important Considerations |\n|---|---|---|---|---|\n| Age: 33 years | - Young | - Long-term savings and retirement planning | - Start early to benefit from compounding | - Risk tolerance and investment horizon |\n| Cibil Score: 502 | - Good credit history | - Potential for higher returns | - Explore different investment options | - Regular contributions and monitoring |\n| RFM Score: 512 | - Loyal customer | - Tax benefits on contributions | - Discuss individual financial goals | - Long-term commitment required |\n| Previous Product: Senior Citizens Health Insurance | - Existing customer | - Diversification of investment portfolio | - Offer additional investment options | - Potential for higher returns compared to traditional savings | \n"
          },
          "metadata": {}
        }
      ]
    }
  ]
}